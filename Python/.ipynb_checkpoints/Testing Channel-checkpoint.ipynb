{
 "cells": [
  {
   "cell_type": "code",
   "execution_count": 167,
   "id": "worse-brisbane",
   "metadata": {},
   "outputs": [],
   "source": [
    "import numpy\n",
    "\n",
    "class env:\n",
    "    def __init__(self):\n",
    "        self.x_range = 100\n",
    "        self.y_range = 100\n",
    "        self.motions = [(-1, 0), (-1, 1), (0, 1), (1, 1),\n",
    "                        (1, 0), (1, -1), (0, -1), (-1, -1)]\n",
    "        self.obs = self.obs_map()\n",
    "\n",
    "    def update_obs(self, obs):\n",
    "        self.obs = obs\n",
    "\n",
    "    def obs_map(self):\n",
    "        x = self.x_range\n",
    "        y = self.y_range\n",
    "        obs = set()\n",
    "\n",
    "        for i in range(x):\n",
    "            obs.add((i, 0))\n",
    "        for i in range(x):\n",
    "            obs.add((i, y - 1))\n",
    "\n",
    "        for i in range(round(self.y_range/2 - 5)):\n",
    "            obs.add((0, i))\n",
    "        for i in range(round(self.y_range/2 + 1), round(self.y_range)):\n",
    "            obs.add((0, i))\n",
    "            \n",
    "        for i in range(y):\n",
    "            obs.add((x - 1, i))\n",
    "            \n",
    "        for i in range(20,30):\n",
    "            obs.add((i, -i+90))\n",
    "            \n",
    "        for i in range(20,40):\n",
    "            obs.add((i, 0.5*i+60))\n",
    "        \n",
    "        for i in range(40,50):\n",
    "            obs.add((i, -1.5 * i + 140))\n",
    "            \n",
    "        for i in range(30,50):\n",
    "            obs.add((i, 0.25* i + 52.5))\n",
    "\n",
    "        for i in range(20,35):\n",
    "            obs.add((25,i))\n",
    "\n",
    "        for i in range(22,45):\n",
    "            obs.add((45,i))\n",
    "            \n",
    "        for i in range(25,45):\n",
    "            obs.add((i, 0.1 * i +17.5))\n",
    "        \n",
    "        for i in range(25,45):\n",
    "            obs.add((i, 0.5*i +22.5))\n",
    "            \n",
    "        for i in range(70,80):\n",
    "            obs.add((i, -1.5*i + 155))\n",
    "            \n",
    "        for i in range(80,85):\n",
    "            obs.add((i, 3*i - 205))\n",
    "            \n",
    "        for i in range(75,85):\n",
    "            obs.add((i, -1.5*i + 177.5))\n",
    "            \n",
    "        for i in range(70,75):\n",
    "            obs.add((i,3*i - 160))\n",
    "            \n",
    "        return obs"
   ]
  },
  {
   "cell_type": "code",
   "execution_count": 168,
   "id": "introductory-polls",
   "metadata": {},
   "outputs": [],
   "source": [
    "import os\n",
    "import sys\n",
    "import matplotlib.pyplot as plt\n",
    "from pylab import *\n",
    "from matplotlib.ticker import MultipleLocator, FormatStrFormatter\n",
    "\n",
    "class Plotting:\n",
    "    def __init__(self):\n",
    "        self.env = env()\n",
    "        self.obs = self.env.obs_map()\n",
    "\n",
    "    def plot_grid(self,name):\n",
    "        obs_x = [x[0] for x in self.obs]\n",
    "        obs_y = [x[1] for x in self.obs]\n",
    "\n",
    "        plt.plot(obs_x,obs_y,\"sk\")\n",
    "        plt.title(name)\n",
    "        plt.axis(\"equal\")\n",
    "        \n",
    "        ax = subplot(111)\n",
    "\n",
    "        ax.xaxis.set_major_locator(MultipleLocator(5))\n",
    "        ax.xaxis.set_major_formatter(FormatStrFormatter('%d'))\n",
    "\n",
    "        ax.yaxis.set_major_locator(MultipleLocator(5))\n",
    "\n",
    "        ax.xaxis.grid(True,'minor')\n",
    "        ax.yaxis.grid(True,'minor')\n",
    "        ax.xaxis.grid(True,'major',linewidth=2)\n",
    "        ax.yaxis.grid(True,'major',linewidth=2)\n",
    "        plt.show()\n",
    "    "
   ]
  },
  {
   "cell_type": "code",
   "execution_count": 169,
   "id": "induced-mexico",
   "metadata": {},
   "outputs": [
    {
     "name": "stderr",
     "output_type": "stream",
     "text": [
      "<ipython-input-168-9c1c61ae91c6>:20: MatplotlibDeprecationWarning: Adding an axes using the same arguments as a previous axes currently reuses the earlier instance.  In a future version, a new instance will always be created and returned.  Meanwhile, this warning can be suppressed, and the future behavior ensured, by passing a unique label to each axes instance.\n",
      "  ax = subplot(111)\n"
     ]
    },
    {
     "data": {
      "image/png": "[encoded data removed]",
      "text/plain": [
       "<Figure size 432x288 with 1 Axes>"
      ]
     },
     "metadata": {
      "needs_background": "light"
     },
     "output_type": "display_data"
    }
   ],
   "source": [
    "plot = Plotting()\n",
    "plot.plot_grid(\"Map\")"
   ]
  },
  {
   "cell_type": "code",
   "execution_count": 136,
   "id": "initial-chinese",
   "metadata": {},
   "outputs": [
    {
     "data": {
      "text/plain": [
       "range(20, 40)"
      ]
     },
     "execution_count": 136,
     "metadata": {},
     "output_type": "execute_result"
    }
   ],
   "source": [
    "range(20,40)"
   ]
  },
  {
   "cell_type": "code",
   "execution_count": null,
   "id": "raised-classification",
   "metadata": {},
   "outputs": [],
   "source": []
  }
 ],
 "metadata": {
  "kernelspec": {
   "display_name": "Python 3",
   "language": "python",
   "name": "python3"
  },
  "language_info": {
   "codemirror_mode": {
    "name": "ipython",
    "version": 3
   },
   "file_extension": ".py",
   "mimetype": "text/x-python",
   "name": "python",
   "nbconvert_exporter": "python",
   "pygments_lexer": "ipython3",
   "version": "3.9.1"
  }
 },
 "nbformat": 4,
 "nbformat_minor": 5
}
