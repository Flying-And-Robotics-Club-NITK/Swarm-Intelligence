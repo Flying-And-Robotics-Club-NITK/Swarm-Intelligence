{
 "cells": [
  {
   "cell_type": "code",
   "execution_count": 1,
   "id": "worse-brisbane",
   "metadata": {},
   "outputs": [],
   "source": [
    "import env,plotting\n",
    "import numpy as np\n",
    "import math\n",
    "from scipy.optimize import fsolve"
   ]
  },
  {
   "cell_type": "code",
   "execution_count": 2,
   "id": "introductory-polls",
   "metadata": {},
   "outputs": [
    {
     "name": "stderr",
     "output_type": "stream",
     "text": [
      "/home/pranshu/Swarm-Intelligence/Python/plotting.py:21: MatplotlibDeprecationWarning: Adding an axes using the same arguments as a previous axes currently reuses the earlier instance.  In a future version, a new instance will always be created and returned.  Meanwhile, this warning can be suppressed, and the future behavior ensured, by passing a unique label to each axes instance.\n",
      "  ax = subplot(111)\n"
     ]
    },
    {
     "data": {
      "image/png": "[encoded data removed]",
      "text/plain": [
       "<Figure size 432x288 with 1 Axes>"
      ]
     },
     "metadata": {
      "needs_background": "light"
     },
     "output_type": "display_data"
    }
   ],
   "source": [
    "plot = plotting.Plotting()\n",
    "plot.plot_grid(\"Map\") "
   ]
  },
  {
   "cell_type": "code",
   "execution_count": 3,
   "id": "coordinated-council",
   "metadata": {},
   "outputs": [],
   "source": [
    "def get_matrix(obstacles_set):\n",
    "    obstacles = list(obstacles_set)\n",
    "    matrix = np.zeros((100,100))\n",
    "\n",
    "    for obs in obstacles:\n",
    "        matrix[int(obs[0])][int(obs[1])] = 1\n",
    "\n",
    "    return matrix"
   ]
  },
  {
   "cell_type": "code",
   "execution_count": 4,
   "id": "turkish-collect",
   "metadata": {},
   "outputs": [],
   "source": [
    "adj_matrix = get_matrix(plot.ret_map())"
   ]
  },
  {
   "cell_type": "code",
   "execution_count": 5,
   "id": "absent-sodium",
   "metadata": {},
   "outputs": [],
   "source": [
    "class robots:\n",
    "    def __init__(self):\n",
    "        self.location= [47,0]\n",
    "        self.bots_passed_left = 0\n",
    "        self.bots_passed_right = 0\n",
    "        self.radius = 10\n",
    "        self.region = []\n",
    "        self.update_region()\n",
    "        \n",
    "    def current_location(self):\n",
    "        return self.location\n",
    "    \n",
    "    def update_location(self, new):\n",
    "        self.location = new\n",
    "        self.update_region()\n",
    "    \n",
    "    def ret_passed(self):\n",
    "        return self.bots_passed\n",
    "    \n",
    "    def add_bots_passed(self):\n",
    "        self.bots_passed += 1\n",
    "        \n",
    "    def update_region(self):\n",
    "        pi = math.pi\n",
    "        self.region = []\n",
    "        r = self.radius\n",
    "        X = self.location[1]\n",
    "        Y = self.location[0]\n",
    "        n = 100\n",
    "        \n",
    "        for x in range(0,n+1):\n",
    "            point = [round(Y + math.cos(2*pi/n*x)*r),round(X + math.sin(2*pi/n*x)*r)]\n",
    "#             if point[0] >= 0 and point[1] >= 0:\n",
    "            self.region.append(point)\n",
    "            \n",
    "    def visible_points(self):\n",
    "        return self.region"
   ]
  },
  {
   "cell_type": "code",
   "execution_count": 6,
   "id": "harmful-platform",
   "metadata": {},
   "outputs": [],
   "source": [
    "robot1 = robots()\n",
    "robot2 = robots()\n",
    "robot3 = robots()\n",
    "robot4 = robots()\n",
    "robot5 = robots()\n",
    "robot6 = robots()\n",
    "robot7 = robots()\n",
    "robot8 = robots()"
   ]
  },
  {
   "cell_type": "code",
   "execution_count": 7,
   "id": "consolidated-pierre",
   "metadata": {},
   "outputs": [],
   "source": [
    "Radius = robots().radius"
   ]
  },
  {
   "cell_type": "code",
   "execution_count": 8,
   "id": "angry-belle",
   "metadata": {
    "scrolled": true
   },
   "outputs": [],
   "source": [
    "#Start Robot-\n",
    "current_location = robot1.current_location()\n",
    "robot1.update_location([current_location[0], Radius])"
   ]
  },
  {
   "cell_type": "code",
   "execution_count": 9,
   "id": "saved-ferry",
   "metadata": {},
   "outputs": [],
   "source": [
    "# Show Everything on map"
   ]
  },
  {
   "cell_type": "code",
   "execution_count": 10,
   "id": "responsible-private",
   "metadata": {},
   "outputs": [],
   "source": [
    "# Get Distance\n",
    "def det_distance(points, current_location):\n",
    "    print(points,current_location)\n",
    "    return math.sqrt((points[0]-current_location[0])**2 + (points[1] - current_location[1])**2)"
   ]
  },
  {
   "cell_type": "code",
   "execution_count": 11,
   "id": "continuing-pasta",
   "metadata": {},
   "outputs": [],
   "source": [
    "# Get New Location\n",
    "def get_next(direction, visible_points, current_location):\n",
    "    \n",
    "    d = 0\n",
    "    max_dist = 0\n",
    "    max_point = []\n",
    "        \n",
    "    if direction == 0:\n",
    "        for points in visible_points:\n",
    "#             print(points[0], current_location[0])\n",
    "            if points[0] < current_location[0]:\n",
    "                pass\n",
    "            else:\n",
    "                d = det_distance(points,current_location)\n",
    "                if d>max_dist:\n",
    "                    max_point=points\n",
    "                    max_dist = d\n",
    "                else:\n",
    "                    pass\n",
    "        \n",
    "        return max_point\n",
    "    else:\n",
    "        for points in visible_points:\n",
    "            if points[0] > current_location[0]:\n",
    "                pass\n",
    "            else:\n",
    "                d = det_distance(points,current_location)\n",
    "                print(d)\n",
    "                if d>max_dist:\n",
    "                    max_point=points\n",
    "                    max_dist = d\n",
    "                else:\n",
    "                    pass\n",
    "        \n",
    "        return max_point"
   ]
  },
  {
   "cell_type": "code",
   "execution_count": 12,
   "id": "synthetic-midnight",
   "metadata": {},
   "outputs": [],
   "source": [
    "# Robot 2\n",
    "#     Set the new location\n",
    "current_location = robot1.current_location()\n",
    "robot2.update_location([current_location[0] + 10, current_location[1]])"
   ]
  },
  {
   "cell_type": "code",
   "execution_count": 13,
   "id": "sudden-spray",
   "metadata": {},
   "outputs": [],
   "source": [
    "# Show Everything on Map"
   ]
  },
  {
   "cell_type": "code",
   "execution_count": 14,
   "id": "narrative-furniture",
   "metadata": {},
   "outputs": [],
   "source": [
    "# Robot 3\n",
    "#     Set New Location\n",
    "current_location = robot1.current_location()\n",
    "robot3.update_location([current_location[0] - 10, current_location[1]])"
   ]
  },
  {
   "cell_type": "code",
   "execution_count": 15,
   "id": "recorded-trading",
   "metadata": {},
   "outputs": [],
   "source": [
    "# Show Everything on Map"
   ]
  },
  {
   "cell_type": "code",
   "execution_count": null,
   "id": "objective-contrast",
   "metadata": {},
   "outputs": [],
   "source": []
  }
 ],
 "metadata": {
  "kernelspec": {
   "display_name": "Python 3",
   "language": "python",
   "name": "python3"
  },
  "language_info": {
   "codemirror_mode": {
    "name": "ipython",
    "version": 3
   },
   "file_extension": ".py",
   "mimetype": "text/x-python",
   "name": "python",
   "nbconvert_exporter": "python",
   "pygments_lexer": "ipython3",
   "version": "3.9.2"
  }
 },
 "nbformat": 4,
 "nbformat_minor": 5
}
